{
 "cells": [
  {
   "cell_type": "code",
   "execution_count": 57,
   "id": "891cc388-f8a8-45fd-be3f-2b9854766f3e",
   "metadata": {},
   "outputs": [],
   "source": [
    "import pandas as pd\n",
    "import numpy as np \n",
    "import matplotlib.pyplot as plt\n",
    "from sklearn.metrics import r2_score\n",
    "from sklearn.linear_model import LinearRegression"
   ]
  },
  {
   "cell_type": "code",
   "execution_count": 58,
   "id": "314d4963-5a5b-4675-80c1-2006a9e42c57",
   "metadata": {},
   "outputs": [],
   "source": [
    "# Load dataset\n",
    "data = pd.read_csv('co2.csv')\n",
    "data['time'] = pd.to_datetime(data['time'], yearfirst = True)\n",
    "data['co2'] = data['co2'].interpolate()"
   ]
  },
  {
   "cell_type": "code",
   "execution_count": 59,
   "id": "119ec098-4bb5-47c2-8705-3abcac2f7569",
   "metadata": {},
   "outputs": [],
   "source": [
    "\n",
    "def create_data(data, window_size, target_size):\n",
    "    i = 1\n",
    "    while i < window_size:\n",
    "        data[f'co2_{i}'] = data['co2'].shift(-i)\n",
    "        i += 1\n",
    "    i = 0\n",
    "    while i < target_size:\n",
    "        data[f'target_{i}'] = data['co2'].shift(-i - window_size)\n",
    "        i += 1\n",
    "\n",
    "    data = data.dropna(axis = 0)\n",
    "    return data"
   ]
  },
  {
   "cell_type": "code",
   "execution_count": 60,
   "id": "7058862d-7faa-4b1b-a44e-cbe7a076c170",
   "metadata": {},
   "outputs": [],
   "source": [
    "window_size = 5\n",
    "target_size = 3\n",
    "train_ratio = 0.8\n",
    "data = create_data(data, window_size, target_size)"
   ]
  },
  {
   "cell_type": "code",
   "execution_count": 61,
   "id": "48e3374c-2f1d-4626-b616-defe441e7373",
   "metadata": {},
   "outputs": [],
   "source": [
    "targets = [f'target_{i}' for i in range(target_size)]\n",
    "x = data.drop(['time'] + targets, axis = 1)\n",
    "y = data[targets]\n",
    "num_samples = len(y)\n",
    "\n"
   ]
  },
  {
   "cell_type": "code",
   "execution_count": 62,
   "id": "d90cb17d-5f2f-4d43-9e0d-6d1223c4b4a7",
   "metadata": {},
   "outputs": [],
   "source": [
    "x_train = x[:int(num_samples * train_ratio)]\n",
    "y_train = y[:int(len(data)* train_ratio)]\n",
    "x_test = x[int(len(data)* train_ratio):] \n",
    "y_test = y[int(len(data)* train_ratio):] "
   ]
  },
  {
   "cell_type": "code",
   "execution_count": 67,
   "id": "1d913638-91df-4737-a723-e528c2768ca3",
   "metadata": {},
   "outputs": [
    {
     "data": {
      "text/html": [
       "<div>\n",
       "<style scoped>\n",
       "    .dataframe tbody tr th:only-of-type {\n",
       "        vertical-align: middle;\n",
       "    }\n",
       "\n",
       "    .dataframe tbody tr th {\n",
       "        vertical-align: top;\n",
       "    }\n",
       "\n",
       "    .dataframe thead th {\n",
       "        text-align: right;\n",
       "    }\n",
       "</style>\n",
       "<table border=\"1\" class=\"dataframe\">\n",
       "  <thead>\n",
       "    <tr style=\"text-align: right;\">\n",
       "      <th></th>\n",
       "      <th>target_0</th>\n",
       "      <th>target_1</th>\n",
       "      <th>target_2</th>\n",
       "    </tr>\n",
       "  </thead>\n",
       "  <tbody>\n",
       "    <tr>\n",
       "      <th>1821</th>\n",
       "      <td>358.8</td>\n",
       "      <td>359.1</td>\n",
       "      <td>358.8</td>\n",
       "    </tr>\n",
       "    <tr>\n",
       "      <th>1822</th>\n",
       "      <td>359.1</td>\n",
       "      <td>358.8</td>\n",
       "      <td>359.4</td>\n",
       "    </tr>\n",
       "    <tr>\n",
       "      <th>1823</th>\n",
       "      <td>358.8</td>\n",
       "      <td>359.4</td>\n",
       "      <td>360.0</td>\n",
       "    </tr>\n",
       "    <tr>\n",
       "      <th>1824</th>\n",
       "      <td>359.4</td>\n",
       "      <td>360.0</td>\n",
       "      <td>359.6</td>\n",
       "    </tr>\n",
       "    <tr>\n",
       "      <th>1825</th>\n",
       "      <td>360.0</td>\n",
       "      <td>359.6</td>\n",
       "      <td>359.7</td>\n",
       "    </tr>\n",
       "    <tr>\n",
       "      <th>...</th>\n",
       "      <td>...</td>\n",
       "      <td>...</td>\n",
       "      <td>...</td>\n",
       "    </tr>\n",
       "    <tr>\n",
       "      <th>2272</th>\n",
       "      <td>369.7</td>\n",
       "      <td>370.3</td>\n",
       "      <td>370.3</td>\n",
       "    </tr>\n",
       "    <tr>\n",
       "      <th>2273</th>\n",
       "      <td>370.3</td>\n",
       "      <td>370.3</td>\n",
       "      <td>370.8</td>\n",
       "    </tr>\n",
       "    <tr>\n",
       "      <th>2274</th>\n",
       "      <td>370.3</td>\n",
       "      <td>370.8</td>\n",
       "      <td>371.2</td>\n",
       "    </tr>\n",
       "    <tr>\n",
       "      <th>2275</th>\n",
       "      <td>370.8</td>\n",
       "      <td>371.2</td>\n",
       "      <td>371.3</td>\n",
       "    </tr>\n",
       "    <tr>\n",
       "      <th>2276</th>\n",
       "      <td>371.2</td>\n",
       "      <td>371.3</td>\n",
       "      <td>371.5</td>\n",
       "    </tr>\n",
       "  </tbody>\n",
       "</table>\n",
       "<p>456 rows × 3 columns</p>\n",
       "</div>"
      ],
      "text/plain": [
       "      target_0  target_1  target_2\n",
       "1821     358.8     359.1     358.8\n",
       "1822     359.1     358.8     359.4\n",
       "1823     358.8     359.4     360.0\n",
       "1824     359.4     360.0     359.6\n",
       "1825     360.0     359.6     359.7\n",
       "...        ...       ...       ...\n",
       "2272     369.7     370.3     370.3\n",
       "2273     370.3     370.3     370.8\n",
       "2274     370.3     370.8     371.2\n",
       "2275     370.8     371.2     371.3\n",
       "2276     371.2     371.3     371.5\n",
       "\n",
       "[456 rows x 3 columns]"
      ]
     },
     "execution_count": 67,
     "metadata": {},
     "output_type": "execute_result"
    }
   ],
   "source": [
    "y_test"
   ]
  },
  {
   "cell_type": "code",
   "execution_count": 63,
   "id": "3cbd3870-9174-46e9-b5f1-f614b460d402",
   "metadata": {},
   "outputs": [
    {
     "name": "stdout",
     "output_type": "stream",
     "text": [
      "[0.9906941835498277, 0.98237714068054, 0.9728273214391033]\n"
     ]
    }
   ],
   "source": [
    "# models = [LinearRegression() for i in range(target_size)]\n",
    "# r2 =[]\n",
    "# for i, model in enumerate(models):\n",
    "#     model.fit(x_train, y_train[f'target_{i}'])\n",
    "#     y_predict = model.predict(x_test)\n",
    "#     r2.append(r2_score(y_test[f'target_{i}'], y_predict))\n",
    "\n",
    "# print(r2)"
   ]
  },
  {
   "cell_type": "code",
   "execution_count": 81,
   "id": "5e99046c-d211-4d7f-a1f3-2c44ce32c6ee",
   "metadata": {},
   "outputs": [],
   "source": [
    "model = LinearRegression()\n",
    "model.fit(x_train, y_train['target_0'])\n",
    "y_predict = model.predict(x_test)"
   ]
  },
  {
   "cell_type": "code",
   "execution_count": 106,
   "id": "5c61914c-b43f-4733-b2b7-4ec032cdb18a",
   "metadata": {},
   "outputs": [
    {
     "ename": "AttributeError",
     "evalue": "'numpy.ndarray' object has no attribute 'type'",
     "output_type": "error",
     "traceback": [
      "\u001b[1;31m---------------------------------------------------------------------------\u001b[0m",
      "\u001b[1;31mAttributeError\u001b[0m                            Traceback (most recent call last)",
      "Cell \u001b[1;32mIn[106], line 1\u001b[0m\n\u001b[1;32m----> 1\u001b[0m y_predict\u001b[38;5;241m.\u001b[39mtype(), y_test[\u001b[38;5;124m\"\u001b[39m\u001b[38;5;124mtarget_0\u001b[39m\u001b[38;5;124m\"\u001b[39m]\u001b[38;5;241m.\u001b[39mtype()\n",
      "\u001b[1;31mAttributeError\u001b[0m: 'numpy.ndarray' object has no attribute 'type'"
     ]
    }
   ],
   "source": [
    "y_predict.type(), y_test[\"target_0\"].type()"
   ]
  },
  {
   "cell_type": "code",
   "execution_count": 104,
   "id": "94d39e07-da9e-4575-9626-71f92bc3b22b",
   "metadata": {},
   "outputs": [
    {
     "name": "stdout",
     "output_type": "stream",
     "text": [
      "True value: 358.8, Predict value: 358.3909330007711\n",
      "True value: 359.1, Predict value: 358.8980855775719\n",
      "True value: 358.8, Predict value: 359.06639451252056\n",
      "True value: 359.4, Predict value: 358.97003237685607\n",
      "True value: 360.0, Predict value: 359.5437041430819\n",
      "True value: 359.6, Predict value: 359.9916335570886\n",
      "True value: 359.7, Predict value: 359.79587430105545\n",
      "True value: 360.7, Predict value: 359.92388134742674\n",
      "True value: 360.6, Predict value: 360.64112121467184\n",
      "True value: 360.3, Predict value: 360.6588717542442\n"
     ]
    }
   ],
   "source": [
    "\n",
    "for i in range(0, 10):  # Start from 0 if you want the first 10 elements\n",
    "    print(f'True value: {y_test[\"target_0\"].iloc[i]}, Predict value: {y_predict[i]}')\n",
    "\n",
    "\n",
    "\n"
   ]
  },
  {
   "cell_type": "code",
   "execution_count": null,
   "id": "c9b34c3d-dc90-4b34-877e-bd4e56710678",
   "metadata": {},
   "outputs": [],
   "source": []
  }
 ],
 "metadata": {
  "kernelspec": {
   "display_name": "Python 3 (ipykernel)",
   "language": "python",
   "name": "python3"
  },
  "language_info": {
   "codemirror_mode": {
    "name": "ipython",
    "version": 3
   },
   "file_extension": ".py",
   "mimetype": "text/x-python",
   "name": "python",
   "nbconvert_exporter": "python",
   "pygments_lexer": "ipython3",
   "version": "3.12.7"
  }
 },
 "nbformat": 4,
 "nbformat_minor": 5
}
